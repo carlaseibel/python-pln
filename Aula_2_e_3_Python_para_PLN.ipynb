{
  "nbformat": 4,
  "nbformat_minor": 0,
  "metadata": {
    "colab": {
      "name": "Aula 2 e 3 - Python para PLN",
      "provenance": [],
      "authorship_tag": "ABX9TyNElNixwGgxaMwSITI51lOu",
      "include_colab_link": true
    },
    "kernelspec": {
      "name": "python3",
      "display_name": "Python 3"
    },
    "language_info": {
      "name": "python"
    }
  },
  "cells": [
    {
      "cell_type": "markdown",
      "metadata": {
        "id": "view-in-github",
        "colab_type": "text"
      },
      "source": [
        "<a href=\"https://colab.research.google.com/github/carlaseiver/python-pln/blob/main/Aula_2_e_3_Python_para_PLN.ipynb\" target=\"_parent\"><img src=\"https://colab.research.google.com/assets/colab-badge.svg\" alt=\"Open In Colab\"/></a>"
      ]
    },
    {
      "cell_type": "code",
      "metadata": {
        "colab": {
          "base_uri": "https://localhost:8080/"
        },
        "id": "RNRBtQDYonGF",
        "outputId": "d86f8268-9fef-4338-aafe-eddfbecec25b"
      },
      "source": [
        "print(\"Curso de Python para PLN\")"
      ],
      "execution_count": null,
      "outputs": [
        {
          "output_type": "stream",
          "name": "stdout",
          "text": [
            "Curso de Python para PLN\n"
          ]
        }
      ]
    },
    {
      "cell_type": "markdown",
      "metadata": {
        "id": "iiQ1P3JHpQm-"
      },
      "source": [
        "Parte 2 da Aula de Python para PLN\n",
        "\n"
      ]
    },
    {
      "cell_type": "markdown",
      "metadata": {
        "id": "K79f1_YAw1tM"
      },
      "source": [
        "Aula 3 - Introdução à Python"
      ]
    },
    {
      "cell_type": "markdown",
      "metadata": {
        "id": "dP90hb-Xw8Zq"
      },
      "source": [
        "Tipos de Dados"
      ]
    },
    {
      "cell_type": "code",
      "metadata": {
        "colab": {
          "base_uri": "https://localhost:8080/"
        },
        "id": "u8glFUC3pX8l",
        "outputId": "67cf51a8-7b39-4d00-abb6-90803f3a3c37"
      },
      "source": [
        "variavel = 14.14\n",
        "print(variavel)"
      ],
      "execution_count": null,
      "outputs": [
        {
          "output_type": "stream",
          "name": "stdout",
          "text": [
            "14.14\n"
          ]
        }
      ]
    },
    {
      "cell_type": "code",
      "metadata": {
        "colab": {
          "base_uri": "https://localhost:8080/"
        },
        "id": "i7E92E0iwuiA",
        "outputId": "813a46b4-3891-4db4-87fe-3c94103f7f5e"
      },
      "source": [
        "type(variavel)"
      ],
      "execution_count": null,
      "outputs": [
        {
          "output_type": "execute_result",
          "data": {
            "text/plain": [
              "float"
            ]
          },
          "metadata": {},
          "execution_count": 23
        }
      ]
    },
    {
      "cell_type": "markdown",
      "metadata": {
        "id": "geru_ijRx9f9"
      },
      "source": [
        "O Pyhton é uma linguagem de tipagem forte, ou seja, ele nao permite fazer operações se as variáveis são de tipos diferentes.\n"
      ]
    },
    {
      "cell_type": "code",
      "metadata": {
        "colab": {
          "base_uri": "https://localhost:8080/",
          "height": 197
        },
        "id": "MfOAiiMHqRbS",
        "outputId": "455a3f92-a866-40a2-b23c-19e189ffdd0d"
      },
      "source": [
        "v1 = \"1\"\n",
        "v2 = 1\n",
        "v1 + v2"
      ],
      "execution_count": null,
      "outputs": [
        {
          "output_type": "error",
          "ename": "TypeError",
          "evalue": "ignored",
          "traceback": [
            "\u001b[0;31m---------------------------------------------------------------------------\u001b[0m",
            "\u001b[0;31mTypeError\u001b[0m                                 Traceback (most recent call last)",
            "\u001b[0;32m<ipython-input-24-4010e5080193>\u001b[0m in \u001b[0;36m<module>\u001b[0;34m()\u001b[0m\n\u001b[1;32m      1\u001b[0m \u001b[0mv1\u001b[0m \u001b[0;34m=\u001b[0m \u001b[0;34m\"1\"\u001b[0m\u001b[0;34m\u001b[0m\u001b[0;34m\u001b[0m\u001b[0m\n\u001b[1;32m      2\u001b[0m \u001b[0mv2\u001b[0m \u001b[0;34m=\u001b[0m \u001b[0;36m1\u001b[0m\u001b[0;34m\u001b[0m\u001b[0;34m\u001b[0m\u001b[0m\n\u001b[0;32m----> 3\u001b[0;31m \u001b[0mv1\u001b[0m \u001b[0;34m+\u001b[0m \u001b[0mv2\u001b[0m\u001b[0;34m\u001b[0m\u001b[0;34m\u001b[0m\u001b[0m\n\u001b[0m",
            "\u001b[0;31mTypeError\u001b[0m: can only concatenate str (not \"int\") to str"
          ]
        }
      ]
    },
    {
      "cell_type": "code",
      "metadata": {
        "colab": {
          "base_uri": "https://localhost:8080/"
        },
        "id": "La-TeH92yNHx",
        "outputId": "66c29e5b-440c-49f1-c341-45bbb846b76d"
      },
      "source": [
        "v1 = 1\n",
        "v2 = 1\n",
        "v1 + v2 "
      ],
      "execution_count": null,
      "outputs": [
        {
          "output_type": "execute_result",
          "data": {
            "text/plain": [
              "2"
            ]
          },
          "metadata": {},
          "execution_count": 26
        }
      ]
    },
    {
      "cell_type": "markdown",
      "metadata": {
        "id": "i-Te9D9Wyusm"
      },
      "source": [
        "Esse espaço faz parte da indentação do Python. No caso, o print faz parte do for. Se não tiver, dá erro!\n",
        "\n"
      ]
    },
    {
      "cell_type": "code",
      "metadata": {
        "colab": {
          "base_uri": "https://localhost:8080/"
        },
        "id": "XEFdpBxXykX_",
        "outputId": "532b0271-7577-487d-eeb2-2f6486617ed7"
      },
      "source": [
        "for i in range(5):\n",
        "  print(i)"
      ],
      "execution_count": null,
      "outputs": [
        {
          "output_type": "stream",
          "name": "stdout",
          "text": [
            "0\n",
            "1\n",
            "2\n",
            "3\n",
            "4\n"
          ]
        }
      ]
    },
    {
      "cell_type": "markdown",
      "metadata": {
        "id": "NfccEwMkz-JB"
      },
      "source": [
        "Listas e Tuplas\n",
        "- São estruturas nativas da linguagem list e tuple;\n",
        "- Informações dentro dessas estruturas podem ser de tipos diferentes, números, textos, booleanos;\n",
        "- Posso acessar por fatias (slicing), quero pegar as 3 primeiros itens de uma lista de compra, por exemplo;\n",
        "- Existem métodos prontos pra adicionar, remover, ordenar, procurar, contar e etc;\n",
        "- Listas consigo mudar o conteúdo e são delimitadas por ];\n",
        "- Tuplas não consigo mudar e são delimitadas por )."
      ]
    },
    {
      "cell_type": "code",
      "metadata": {
        "colab": {
          "base_uri": "https://localhost:8080/"
        },
        "id": "uOUz2Zcz0sGm",
        "outputId": "d71ea7c8-fa1f-405e-e998-8cf029f28e59"
      },
      "source": [
        "lista = []\n",
        "lista = list(range(5))\n",
        "lista = [0,1,2,3,4]\n",
        "print(type(lista))\n",
        "print(lista)"
      ],
      "execution_count": null,
      "outputs": [
        {
          "output_type": "stream",
          "name": "stdout",
          "text": [
            "<class 'list'>\n",
            "[0, 1, 2, 3, 4]\n"
          ]
        }
      ]
    },
    {
      "cell_type": "code",
      "metadata": {
        "colab": {
          "base_uri": "https://localhost:8080/"
        },
        "id": "hAT5xIQd1Sez",
        "outputId": "e6428dca-49da-40a6-c370-5fc761207a33"
      },
      "source": [
        "lista.append(10000)\n",
        "print(lista)\n"
      ],
      "execution_count": null,
      "outputs": [
        {
          "output_type": "stream",
          "name": "stdout",
          "text": [
            "[0, 1, 2, 3, 4, 5, 10000]\n"
          ]
        }
      ]
    },
    {
      "cell_type": "code",
      "metadata": {
        "colab": {
          "base_uri": "https://localhost:8080/"
        },
        "id": "6US3qIf343gL",
        "outputId": "41a0ed8b-a1b3-48dd-e4e9-4edf7d4db24b"
      },
      "source": [
        "print(lista)"
      ],
      "execution_count": null,
      "outputs": [
        {
          "output_type": "stream",
          "name": "stdout",
          "text": [
            "[6, 5, 6, 6, 6, 0, 10, 2, 3, 4, 5, 10000]\n"
          ]
        }
      ]
    },
    {
      "cell_type": "code",
      "metadata": {
        "colab": {
          "base_uri": "https://localhost:8080/"
        },
        "id": "7iIxMN-Z55AG",
        "outputId": "887e6602-0fee-4be3-e9e4-9376dc5033eb"
      },
      "source": [
        "lista = list(range(5))\n",
        "print(lista)"
      ],
      "execution_count": null,
      "outputs": [
        {
          "output_type": "stream",
          "name": "stdout",
          "text": [
            "[0, 1, 2, 3, 4]\n"
          ]
        }
      ]
    },
    {
      "cell_type": "code",
      "metadata": {
        "colab": {
          "base_uri": "https://localhost:8080/"
        },
        "id": "CueKEzrI6F9g",
        "outputId": "310c9488-37da-4c64-d0e5-94d8b21e199e"
      },
      "source": [
        "lista.append(10000)\n",
        "print(lista)"
      ],
      "execution_count": null,
      "outputs": [
        {
          "output_type": "stream",
          "name": "stdout",
          "text": [
            "[0, 1, 2, 3, 4, 10000]\n"
          ]
        }
      ]
    },
    {
      "cell_type": "code",
      "metadata": {
        "colab": {
          "base_uri": "https://localhost:8080/"
        },
        "id": "LWDPlNZu6R-4",
        "outputId": "2cc274c1-bc8e-4c28-db2c-fee05a76781a"
      },
      "source": [
        "lista.insert(5,5)\n",
        "print(lista)"
      ],
      "execution_count": null,
      "outputs": [
        {
          "output_type": "stream",
          "name": "stdout",
          "text": [
            "[0, 5, 2, 3, 4, 5, 10000]\n"
          ]
        }
      ]
    },
    {
      "cell_type": "code",
      "metadata": {
        "colab": {
          "base_uri": "https://localhost:8080/"
        },
        "id": "__dcdkKo7IEd",
        "outputId": "5189417d-2348-411e-ae60-605529f0db67"
      },
      "source": [
        "lista = list(range(5))\n",
        "print(lista)"
      ],
      "execution_count": null,
      "outputs": [
        {
          "output_type": "stream",
          "name": "stdout",
          "text": [
            "[0, 1, 2, 3, 4]\n"
          ]
        }
      ]
    },
    {
      "cell_type": "code",
      "metadata": {
        "colab": {
          "base_uri": "https://localhost:8080/"
        },
        "id": "ejHff9fa7QWY",
        "outputId": "905fbf7c-5e66-49f3-9c6f-3d9872e3676f"
      },
      "source": [
        "lista.append(10000)\n",
        "print(lista)"
      ],
      "execution_count": null,
      "outputs": [
        {
          "output_type": "stream",
          "name": "stdout",
          "text": [
            "[0, 1, 2, 3, 4, 5, 10000]\n"
          ]
        }
      ]
    },
    {
      "cell_type": "code",
      "metadata": {
        "colab": {
          "base_uri": "https://localhost:8080/"
        },
        "id": "_N-2io_z7lNl",
        "outputId": "18a7b944-1ae9-4b69-a8b6-b392bf3f8913"
      },
      "source": [
        "lista[1] = 10\n",
        "print(lista)"
      ],
      "execution_count": null,
      "outputs": [
        {
          "output_type": "stream",
          "name": "stdout",
          "text": [
            "[0, 10, 2, 3, 4, 5, 10000]\n"
          ]
        }
      ]
    },
    {
      "cell_type": "code",
      "metadata": {
        "colab": {
          "base_uri": "https://localhost:8080/"
        },
        "id": "7L49MOvi79QC",
        "outputId": "022c9a3f-43d8-4b2a-f3e8-23742b83101f"
      },
      "source": [
        "lista.insert(5,6)\n",
        "print(lista)"
      ],
      "execution_count": null,
      "outputs": [
        {
          "output_type": "stream",
          "name": "stdout",
          "text": [
            "[6, 0, 10, 2, 3, 6, 4, 5, 10000]\n"
          ]
        }
      ]
    },
    {
      "cell_type": "code",
      "metadata": {
        "colab": {
          "base_uri": "https://localhost:8080/"
        },
        "id": "w-AyTF5f8XHQ",
        "outputId": "315e769e-0035-4f0e-d4bd-1efbb2a7c56b"
      },
      "source": [
        "lista.reverse()\n",
        "print(lista)"
      ],
      "execution_count": null,
      "outputs": [
        {
          "output_type": "stream",
          "name": "stdout",
          "text": [
            "[10000, 5, 4, 6, 3, 2, 10, 0, 6]\n"
          ]
        }
      ]
    },
    {
      "cell_type": "code",
      "metadata": {
        "colab": {
          "base_uri": "https://localhost:8080/"
        },
        "id": "W7UOmmsS8nap",
        "outputId": "90e7f5e1-8906-41ea-8f43-379a3d270255"
      },
      "source": [
        "lista.sort()\n",
        "print(lista)"
      ],
      "execution_count": null,
      "outputs": [
        {
          "output_type": "stream",
          "name": "stdout",
          "text": [
            "[0, 2, 3, 4, 5, 6, 6, 10, 10000]\n"
          ]
        }
      ]
    },
    {
      "cell_type": "code",
      "metadata": {
        "colab": {
          "base_uri": "https://localhost:8080/"
        },
        "id": "87t5XHcR83Mn",
        "outputId": "a42cd9cc-b37e-457e-cdd4-54d5c66d0d6d"
      },
      "source": [
        "lista.count(6)"
      ],
      "execution_count": null,
      "outputs": [
        {
          "output_type": "execute_result",
          "data": {
            "text/plain": [
              "2"
            ]
          },
          "metadata": {},
          "execution_count": 65
        }
      ]
    },
    {
      "cell_type": "markdown",
      "metadata": {
        "id": "dKGTrOQF9Nyb"
      },
      "source": [
        "O index é um método que mostra a posição da primeira ocorrência."
      ]
    },
    {
      "cell_type": "code",
      "metadata": {
        "colab": {
          "base_uri": "https://localhost:8080/"
        },
        "id": "BmkWq_2W9E7V",
        "outputId": "46d1c2c6-5915-4651-f5a3-568d8c7c9370"
      },
      "source": [
        "lista.index(6)"
      ],
      "execution_count": null,
      "outputs": [
        {
          "output_type": "execute_result",
          "data": {
            "text/plain": [
              "5"
            ]
          },
          "metadata": {},
          "execution_count": 66
        }
      ]
    },
    {
      "cell_type": "markdown",
      "metadata": {
        "id": "pVt8s1sj-Gne"
      },
      "source": [
        "Slice é a fatia de uma lista, uma sub-lista. Me retorna a partir do 3º elemento até o 7º.\n",
        "\n",
        "É útil no PLN porque um texto é uma lista de palavras então consigo manipular com facilidade."
      ]
    },
    {
      "cell_type": "code",
      "metadata": {
        "colab": {
          "base_uri": "https://localhost:8080/"
        },
        "id": "I6bGSvot9V-8",
        "outputId": "f2717a75-41c2-4a85-ac13-4ddf8d53f4ae"
      },
      "source": [
        "lista2 = list(range(10))\n",
        "print(lista2)\n",
        "print(lista2[2:7])\n",
        "print(lista2[2:7:2])"
      ],
      "execution_count": null,
      "outputs": [
        {
          "output_type": "stream",
          "name": "stdout",
          "text": [
            "[0, 1, 2, 3, 4, 5, 6, 7, 8, 9]\n",
            "[2, 3, 4, 5, 6]\n",
            "[2, 4, 6]\n"
          ]
        }
      ]
    },
    {
      "cell_type": "code",
      "metadata": {
        "id": "nDGHG-sC98Ai"
      },
      "source": [
        "# print(\"Esse é um comentário\")"
      ],
      "execution_count": null,
      "outputs": []
    },
    {
      "cell_type": "code",
      "metadata": {
        "colab": {
          "base_uri": "https://localhost:8080/"
        },
        "id": "t4l6Mqud_oOj",
        "outputId": "22f197f5-fe27-48b8-e3eb-f078158fa0cd"
      },
      "source": [
        "lista3 = [\"tais\", \"seibel\", \"vervloet\"]\n",
        "lista.sort()\n",
        "print(lista3)"
      ],
      "execution_count": null,
      "outputs": [
        {
          "output_type": "stream",
          "name": "stdout",
          "text": [
            "['tais', 'seibel', 'vervloet']\n"
          ]
        }
      ]
    },
    {
      "cell_type": "markdown",
      "metadata": {
        "id": "fmToxHL_EcDr"
      },
      "source": [
        "Tuplas\n",
        "- São imutáveis!\n",
        "- São pra tipos diferentes. Mas no Python, uma linguagem dinâmica, isso tbm aparece na lista;\n",
        "\n"
      ]
    },
    {
      "cell_type": "code",
      "metadata": {
        "id": "s43tPmCnE2Su"
      },
      "source": [
        "lista4 = [1, 'carla', 2, 'seibel', 3]"
      ],
      "execution_count": null,
      "outputs": []
    },
    {
      "cell_type": "code",
      "metadata": {
        "colab": {
          "base_uri": "https://localhost:8080/"
        },
        "id": "6QJ6dQvFFAcl",
        "outputId": "8038470a-b800-4360-c5d1-8c52ff4f195a"
      },
      "source": [
        "t = (1, 'carla', 2, 'seibel', 3.6)\n",
        "print(t)"
      ],
      "execution_count": null,
      "outputs": [
        {
          "output_type": "stream",
          "name": "stdout",
          "text": [
            "(1, 'carla', 2, 'seibel', 3.6)\n"
          ]
        }
      ]
    },
    {
      "cell_type": "markdown",
      "metadata": {
        "id": "5Q-JPtWzFVeU"
      },
      "source": [
        "Diferença mais clássica entre lista e tuplas, não consigo alterar valores das variáveis.\n",
        "\n",
        "- Exemplo no PLN: _Vetores de embeddings_ e _classes morfossintáticas_ onde não posso ter dados sendo alterados."
      ]
    },
    {
      "cell_type": "code",
      "metadata": {
        "colab": {
          "base_uri": "https://localhost:8080/",
          "height": 180
        },
        "id": "T8f-ZLDmFMhm",
        "outputId": "b1efea7b-1a33-4b9e-fc64-20d43a7edaf3"
      },
      "source": [
        "t[0] = 5\n",
        "print(t)"
      ],
      "execution_count": null,
      "outputs": [
        {
          "output_type": "error",
          "ename": "TypeError",
          "evalue": "ignored",
          "traceback": [
            "\u001b[0;31m---------------------------------------------------------------------------\u001b[0m",
            "\u001b[0;31mTypeError\u001b[0m                                 Traceback (most recent call last)",
            "\u001b[0;32m<ipython-input-75-95f881c055c3>\u001b[0m in \u001b[0;36m<module>\u001b[0;34m()\u001b[0m\n\u001b[0;32m----> 1\u001b[0;31m \u001b[0mt\u001b[0m\u001b[0;34m[\u001b[0m\u001b[0;36m0\u001b[0m\u001b[0;34m]\u001b[0m \u001b[0;34m=\u001b[0m \u001b[0;36m5\u001b[0m\u001b[0;34m\u001b[0m\u001b[0;34m\u001b[0m\u001b[0m\n\u001b[0m\u001b[1;32m      2\u001b[0m \u001b[0mprint\u001b[0m\u001b[0;34m(\u001b[0m\u001b[0mt\u001b[0m\u001b[0;34m)\u001b[0m\u001b[0;34m\u001b[0m\u001b[0;34m\u001b[0m\u001b[0m\n",
            "\u001b[0;31mTypeError\u001b[0m: 'tuple' object does not support item assignment"
          ]
        }
      ]
    },
    {
      "cell_type": "markdown",
      "metadata": {
        "id": "mMMEfooJGITl"
      },
      "source": [
        "Dicionários\n",
        "- Gerenciam info por pares chave-valor;\n",
        "- Arrays associativos;\n",
        "- "
      ]
    },
    {
      "cell_type": "code",
      "metadata": {
        "id": "g8YgCG1bGW_M"
      },
      "source": [
        "12 = [['carla', 10], ['seibel', 20], ['vervloet',30]]\n"
      ],
      "execution_count": null,
      "outputs": []
    },
    {
      "cell_type": "code",
      "metadata": {
        "colab": {
          "base_uri": "https://localhost:8080/",
          "height": 163
        },
        "id": "G3GnwU2GHQtz",
        "outputId": "7ae9ff1e-a277-447f-f321-9f92978b5096"
      },
      "source": [
        "12[0][1]"
      ],
      "execution_count": null,
      "outputs": [
        {
          "output_type": "error",
          "ename": "TypeError",
          "evalue": "ignored",
          "traceback": [
            "\u001b[0;31m---------------------------------------------------------------------------\u001b[0m",
            "\u001b[0;31mTypeError\u001b[0m                                 Traceback (most recent call last)",
            "\u001b[0;32m<ipython-input-82-6b2463754d62>\u001b[0m in \u001b[0;36m<module>\u001b[0;34m()\u001b[0m\n\u001b[0;32m----> 1\u001b[0;31m \u001b[0;36m12\u001b[0m\u001b[0;34m[\u001b[0m\u001b[0;36m0\u001b[0m\u001b[0;34m]\u001b[0m\u001b[0;34m[\u001b[0m\u001b[0;36m1\u001b[0m\u001b[0;34m]\u001b[0m\u001b[0;34m\u001b[0m\u001b[0;34m\u001b[0m\u001b[0m\n\u001b[0m",
            "\u001b[0;31mTypeError\u001b[0m: 'int' object is not subscriptable"
          ]
        }
      ]
    },
    {
      "cell_type": "code",
      "metadata": {
        "colab": {
          "base_uri": "https://localhost:8080/"
        },
        "id": "PKqD5e30Gj_q",
        "outputId": "d173b2ba-cc85-49af-bc27-03fb731973d8"
      },
      "source": [
        "dic = {}\n",
        "dic['carla'] = 10\n",
        "dic['luiza'] = 9\n",
        "dic['marcia'] = 10\n",
        "dic['alguém'] = 9\n",
        "print(dic)"
      ],
      "execution_count": null,
      "outputs": [
        {
          "output_type": "stream",
          "name": "stdout",
          "text": [
            "{'carla': 10, 'luiza': 9, 'marcia': 10, 'alguém': 9}\n"
          ]
        }
      ]
    },
    {
      "cell_type": "markdown",
      "metadata": {
        "id": "s2EuA5S1HsdT"
      },
      "source": [
        "Trabalhar com dicionários torna o acesso às informações mais fácil."
      ]
    },
    {
      "cell_type": "code",
      "metadata": {
        "colab": {
          "base_uri": "https://localhost:8080/"
        },
        "id": "IMs_QSbsEbCZ",
        "outputId": "7734af35-1f66-41ba-9334-e1af9ea4ff8b"
      },
      "source": [
        "dic['carla']"
      ],
      "execution_count": null,
      "outputs": [
        {
          "output_type": "execute_result",
          "data": {
            "text/plain": [
              "10"
            ]
          },
          "metadata": {},
          "execution_count": 86
        }
      ]
    },
    {
      "cell_type": "markdown",
      "metadata": {
        "id": "h8Vu4f9HIKBi"
      },
      "source": [
        "Para ver quais são as informações presentes no dicionário."
      ]
    },
    {
      "cell_type": "code",
      "metadata": {
        "colab": {
          "base_uri": "https://localhost:8080/"
        },
        "id": "SYGZ7nQMH06W",
        "outputId": "b919ff62-f011-4bf5-dce5-ee773dda1de5"
      },
      "source": [
        "print(dic.keys())"
      ],
      "execution_count": null,
      "outputs": [
        {
          "output_type": "stream",
          "name": "stdout",
          "text": [
            "dict_keys(['carla', 'luiza', 'marcia', 'alguém'])\n"
          ]
        }
      ]
    },
    {
      "cell_type": "code",
      "metadata": {
        "colab": {
          "base_uri": "https://localhost:8080/"
        },
        "id": "C4URFOz3Ibdo",
        "outputId": "3aad30ce-0139-4831-ebb1-540ac763ce37"
      },
      "source": [
        "print(dic.values())"
      ],
      "execution_count": null,
      "outputs": [
        {
          "output_type": "stream",
          "name": "stdout",
          "text": [
            "dict_values([10, 9, 10, 9])\n"
          ]
        }
      ]
    },
    {
      "cell_type": "code",
      "metadata": {
        "colab": {
          "base_uri": "https://localhost:8080/"
        },
        "id": "egO56qClIl0I",
        "outputId": "e5f4caeb-9db9-48da-91f6-ea712c76e6f7"
      },
      "source": [
        "type(dic.keys())"
      ],
      "execution_count": null,
      "outputs": [
        {
          "output_type": "execute_result",
          "data": {
            "text/plain": [
              "dict_keys"
            ]
          },
          "metadata": {},
          "execution_count": 89
        }
      ]
    },
    {
      "cell_type": "markdown",
      "metadata": {
        "id": "vXKrVTFVIzqp"
      },
      "source": [
        "As variáveis não são manipuláveis dentro de um dicionário:"
      ]
    },
    {
      "cell_type": "code",
      "metadata": {
        "colab": {
          "base_uri": "https://localhost:8080/",
          "height": 163
        },
        "id": "ru_fceOBIshE",
        "outputId": "f7df14de-c3ab-442f-c172-92f1d6e4129d"
      },
      "source": [
        "dic.keys()[0]"
      ],
      "execution_count": null,
      "outputs": [
        {
          "output_type": "error",
          "ename": "TypeError",
          "evalue": "ignored",
          "traceback": [
            "\u001b[0;31m---------------------------------------------------------------------------\u001b[0m",
            "\u001b[0;31mTypeError\u001b[0m                                 Traceback (most recent call last)",
            "\u001b[0;32m<ipython-input-90-a3aa46212755>\u001b[0m in \u001b[0;36m<module>\u001b[0;34m()\u001b[0m\n\u001b[0;32m----> 1\u001b[0;31m \u001b[0mdic\u001b[0m\u001b[0;34m.\u001b[0m\u001b[0mkeys\u001b[0m\u001b[0;34m(\u001b[0m\u001b[0;34m)\u001b[0m\u001b[0;34m[\u001b[0m\u001b[0;36m0\u001b[0m\u001b[0;34m]\u001b[0m\u001b[0;34m\u001b[0m\u001b[0;34m\u001b[0m\u001b[0m\n\u001b[0m",
            "\u001b[0;31mTypeError\u001b[0m: 'dict_keys' object is not subscriptable"
          ]
        }
      ]
    },
    {
      "cell_type": "markdown",
      "metadata": {
        "id": "HPc3LOX5JARD"
      },
      "source": [
        "Por isso, crio uma lista com o dicionário:"
      ]
    },
    {
      "cell_type": "code",
      "metadata": {
        "colab": {
          "base_uri": "https://localhost:8080/",
          "height": 35
        },
        "id": "ajzVe8ZTI44F",
        "outputId": "c3ffa282-d3e8-49c5-f60a-e4d1239c94e6"
      },
      "source": [
        "list(dic.keys())[0]"
      ],
      "execution_count": null,
      "outputs": [
        {
          "output_type": "execute_result",
          "data": {
            "application/vnd.google.colaboratory.intrinsic+json": {
              "type": "string"
            },
            "text/plain": [
              "'carla'"
            ]
          },
          "metadata": {},
          "execution_count": 92
        }
      ]
    },
    {
      "cell_type": "markdown",
      "metadata": {
        "id": "Y7oO1Z3uJQnN"
      },
      "source": [
        "Posso criar uma lista de tuplas com os itens do dicionário:"
      ]
    },
    {
      "cell_type": "code",
      "metadata": {
        "colab": {
          "base_uri": "https://localhost:8080/"
        },
        "id": "EuDlgQn5JK_N",
        "outputId": "59a785db-118e-4f55-bb25-5716411e2c81"
      },
      "source": [
        "list(dic.items())"
      ],
      "execution_count": null,
      "outputs": [
        {
          "output_type": "execute_result",
          "data": {
            "text/plain": [
              "[('carla', 10), ('luiza', 9), ('marcia', 10), ('alguém', 9)]"
            ]
          },
          "metadata": {},
          "execution_count": 93
        }
      ]
    },
    {
      "cell_type": "code",
      "metadata": {
        "colab": {
          "base_uri": "https://localhost:8080/"
        },
        "id": "54V-BPYgJ4yX",
        "outputId": "d1950f2e-903d-4c67-cdd1-174b9e749e45"
      },
      "source": [
        "for chave, valor in dic.items():\n",
        "  print(chave, \"teve nota\", valor)"
      ],
      "execution_count": null,
      "outputs": [
        {
          "output_type": "stream",
          "name": "stdout",
          "text": [
            "carla teve nota 10\n",
            "luiza teve nota 9\n",
            "marcia teve nota 10\n",
            "alguém teve nota 9\n"
          ]
        }
      ]
    },
    {
      "cell_type": "markdown",
      "metadata": {
        "id": "Fd4NG8MyKp5Q"
      },
      "source": [
        "Não posso ter uma mesma chave com dois valores. Ele atualiza com o último valor.\n"
      ]
    },
    {
      "cell_type": "code",
      "metadata": {
        "id": "mqTYexj9KxLB",
        "colab": {
          "base_uri": "https://localhost:8080/"
        },
        "outputId": "d8ce7450-90eb-4f2e-d4ed-4e0b0bd0280e"
      },
      "source": [
        "arquivo_entrada = open(\"/content/drive/MyDrive/arquivos_txt/corpus_teste.txt\", 'r')\n",
        "arquivo_lido = arquivo_entrada.read()\n",
        "print(arquivo_lido)\n",
        "arquivo_entrada.close()"
      ],
      "execution_count": null,
      "outputs": [
        {
          "output_type": "stream",
          "name": "stdout",
          "text": [
            "Egípcio acabou com o clássico inglês, enquanto o português, assim como todo o time do United, foi mal\n",
            "Com uma atuação monstruosa de Salah, com direito a três gols e uma assistência, e Cristiano Ronaldo apagado, o Liverpool atropelou o Manchester United por 5 a 0 neste domingo (24) em pelo Old Trafford, pela nona rodada da Premier League.\n",
            "\n",
            "Melhores momentos\n",
            "play\n",
            "5:23\n",
            "Salah 'destrói' United com hat-trick, e Liverpool vence por 5 a 0 em pleno Old Trafford; veja os melhores momentosO que se viu no Teatro dos Sonhos foi um domínio do Liverpool | Até o fim do domingo (24) tem Star+ Acesso Livre! Esporte AO VIVO, séries e filmes. Clique aqui e aproveite de graça toda a programação.\n",
            "O clássico marcava o encontro de duas equipes que buscavam a parte de cima da tabela. O time da casa, com Solskjaer já pressionado (agora, então, em situação ainda pior), precisava da vitória para não se afastar da parte de cima. E os visitantes mirando o Chelsea, líder, e o Manchester City, o qual passaram na tabela com o triunfo.\n",
            "\n",
            "Star+ Acesso Livre. Aproveite!\n",
            "\n",
            "Começou! Até meia noite de domingo (24) tem Star+ Acesso Livre. Muito esporte AO VIVO, séries e filmes. Clique aqui e aproveite de graça toda a programação!\n",
            "\n",
            "Começou! Até meia noite de domingo (24) tem Star+ Acesso Livre. Muito esporte AO VIVO, séries e filmes. Clique aqui e aproveite de graça toda a programação.\n",
            "\n",
            "Dentro de campo, outro duelo especial. Do lado dos Red Devils, Cristiano Ronaldo, candidato à Bola de Ouro e que havia marcado seis gols em oito jogos.\n",
            "\n",
            "Já pelos Reds, Mohamed Salah. O egípcio, que também está entre os 30 nomes selecionados ao prêmio, é outro que faz início de temporada espetacular. 12 gols em 11 jogos.\n",
            "\n",
            "E o que se viu no Teatro dos Sonhos foi um domínio absoluto do Liverpool, com direito a vantagem de 2 a 0 construída em apenas 13 minutos.\n",
            "\n",
            "Aos quatro minutos, o United deixou um buraco na defesa, Salah recebeu livre, serviu Keïta, que, cara a cara com De Gea, abriu o placar.\n",
            "\n",
            "play\n",
            "1:22\n",
            "Gol do Liverpool! Mohamed Salah encontra Naby Keita, que tira de De Gea e faz 1 a 0 no Old Trafford\n",
            "Aos 12, foi a vez de Diogo Jota marcar. Após Maguire bater cabeça com Shaw, Alexander-Arnold cruzou e o português só teve o trabalho de empurrar para as redes no segundo pau.\n",
            "\n",
            "play\n",
            "1:23\n",
            "Gol do Liverpool! Maguire e Shaw batem cabeça, Alexander-Arnold cruza, e Diogo Jota faz 2 a 0 contra o UnitedJota ampliou o placar após erro duplo da defesa do Manchester | Até o fim do domingo (24) tem Star+ Acesso Livre! Esporte AO VIVO, séries e filmes. Clique aqui e aproveite de graça toda a programação.\n",
            "A partir daí, começou o show de Mohamed Salah. Aos 37, o egípcio recebeu passe de Keïta pela direita e chegou completando para as redes.\n",
            "\n",
            "play\n",
            "1:26\n",
            "Gol do Liverpool! Mohamed Salah recebe cruzamento de Keita, faz 3 a 0 e leva Paulo Andrade à loucura na narraçãoSalah, 'o melhor do mundo', ampliou o placar contra o United | Até o fim do domingo (24) tem Star+ Acesso Livre! Esporte AO VIVO, séries e filmes. Clique aqui e aproveite de graça toda a programação.\n",
            "Aos 49, após boa troca de passes na entrada da área, Diogo Jota achou Salah pela direita. O camisa 11 chegou pegando de primeira, sem chances para De Gea, tornando a vitória uma goleada.\n",
            "\n",
            "play\n",
            "1:53\n",
            "Gol do Liverpool! Mohamed Salah, livre, recebe de Diogo Jota, bate de canhota e enfia 4 a 0 no UnitedO Liverpool colocou o Manchester na roda para fazer o 4º gol | Até o fim do domingo (24) tem Star+ Acesso Livre! Esporte AO VIVO, séries e filmes. Clique aqui e aproveite de graça toda a programação.\n",
            "No segundo tempo, bastaram quatro minutos para Salah chegar ao hat-trick. O camisa 11 recebeu lançamento de Henderson, tocou na saída de De Gea e fez mais um.\n",
            "\n",
            "play\n",
            "1:22\n",
            "Gol do Liverpool! Henderson lança Salah, que toca de bico na saída de De Gea, completa hat-trick e faz 5 a 0Salah está on fire no Old Trafford | Até o fim do domingo (24) tem Star+ Acesso Livre! Esporte AO VIVO, séries e filmes. Clique aqui e aproveite de graça toda a programação.\n",
            "Situação do campeonato\n",
            "Com o resultado, o Liverpool chegou aos 21 pontos e está na vice-liderança, um ponto a menos que o Chelsea.\n",
            "\n",
            "Já o Manchester United está em 7º, com 14, fora da zona de classificação para as competições europeias.\n",
            "\n",
            "O cara: Mohamed Salah\n",
            "Se o palco foi o Teatro dos Sonhos, o grande ator do ato foi Mohamed Salah. Com um hat-trick e uma assistência, o egípcio comandou o banho de bola que o Liverpool aplicou no Manchester United.\n",
            "\n",
            "E foi além: com a bola na rede, Salah chegou aos 107 gols, ultrapassando Drogba, com 104, e se tornando o africano com mais gols na história da Premier League.\n",
            "\n",
            "\n",
            "Mohamed Salah comemorando gol pelo Liverpool contra o Manchester United pela Premier League Alex Livesey - Danehouse/Getty Images\n",
            "Cristiano Ronaldo vai mal e dá 'piti'\n",
            "Se os Red Devils levaram um passeio, Cristiano Ronaldo também não foi bem. E, no fim, da etapa inicial, após Jones ficar caído no gramado, o astro português chegou dando um bico na bola, desencadeando uma pequena confusão. O craque levou cartão amarelo.\n",
            "\n",
            "play\n",
            "1:31\n",
            "Cristiano Ronaldo perde a cabeça, acerta bicuda em Alexander-Arnold e leva cartão amarelo em United x LiverpoolO tempo fechou após o momento de fúria de CR7 | Até o fim do domingo (24) tem Star+ Acesso Livre! Esporte AO VIVO, séries e filmes. Clique aqui e aproveite de graça toda a programação.\n",
            "Na etapa final, o gajo ainda chegou a marcar, mas estava impedido.\n",
            "\n",
            "play\n",
            "1:17\n",
            "Não valeu! Cristiano Ronaldo anota golaço contra o Liverpool, mas VAR pega impedimento e anula o lanceA torcida do Liverpool foi à loucura com a anulação | Até o fim do domingo (24) tem Star+ Acesso Livre! Esporte AO VIVO, séries e filmes. Clique aqui e aproveite de graça toda a programação.\n",
            "Foi mal: defesa do United\n",
            "RELACIONADO\n",
            "\n",
            "Star+ Acesso Livre por 3 dias: veja o que é e como funciona a promoção do streaming da Disney\n",
            "5dESPN.com.br\n",
            "\n",
            "Star+ Acesso Livre terá programação MÁ-GI-CA: 5 clássicos europeus, NBA, NFL, tênis e muito mais, TUDO de graça; veja a agenda\n",
            "5dESPN.com.br\n",
            "Se o Liverpool foi eficaz nas chances que teve, a zaga do Manchester United foi uma peneira. No primeiro gol, linhas altas, muitos buracos e espaço, que facilitaram a vida de Salah. O egípcio, com muita calma, achou Keïta, que, sozinho, marcou.\n",
            "\n",
            "No segundo gol, Alexander-Arnold contou com Maguire e Shaw batendo cabeça. Assim, achou Diogo Jota teve facilidade para, sozinho no segundo pau, empurrar para as redes.\n",
            "\n",
            "Pogba em 14 minutos\n",
            "O francês entrou no intervalo e durou apenas 14 minutos na partida. Após entrada em Keïta, o camisa 6 recebeu vermelho direto após consulta do árbitro ao VAR.\n",
            "\n",
            "play\n",
            "2:07\n",
            "Pogba joga 15 minutos e é expulso com ajuda do VAR por entrada criminosa em Keita em United x LiverpoolPogba foi para o jogo apenas no segundo tempo e logo recebeu vermelho | Até o fim do domingo (24) tem Star+ Acesso Livre! Esporte AO VIVO, séries e filmes. Clique aqui e aproveite de graça toda a programação.\n",
            "Próximos jogos\n",
            "O Manchester United só volta a campo no próximo final de semana, no sábado (30). Os Red Devils encaram o Tottenham, fora de casa, às 13h30, pela Premier League. A partida terá transmissão pela ESPN no Star+.\n",
            "\n",
            "Inscreva-se no nosso canal!\n",
            "\n",
            "Lives, conteúdos originais e o melhor da programação da ESPN! Inscreva-se no nosso canal do YouTube, ative as notificações e não perca nenhum vídeo!\n",
            "\n",
            "\n",
            "Já o Liverpool, na quarta (27), às 15h45, visita o Preston North End pelas oitavas de final da Copa da Liga Inglesa.\n",
            "\n",
            "Ficha técnica\n",
            "Manchester United 0 x 5 Liverpool\n",
            "GOLS: Liverpool: Keïta, Diogo Jota e Salah (3x)\n",
            "\n",
            "MANCHESTER UNITED: De Gea; Wan-Bissaka, Lindelof, Maguire e Shaw; McTominay, Fred, Greenwood (Pogba), Bruno Fernandes (Cavani) e Rashford (Dalot); Cristiano Ronaldo. Técnico: Ole Gunnar Solskjaer\n",
            "\n",
            "LIVERPOOL: Alisson; Alexander-Arnold, Konaté, Van Dijk e Robertson; Keïta (Oxlade-Chamberlain), Henderson e Milner (Jones); Salah, Diogo Jota e Firmino (Mané). Técnico: Jürgen Klopp\n"
          ]
        }
      ]
    },
    {
      "cell_type": "code",
      "metadata": {
        "id": "-LIjN1EyP6Nx"
      },
      "source": [
        "arquivo_escrita = open(\"/content/drive/MyDrive/arquivos_txt/result.txt\", 'w')\n",
        "arquivo_escrita.write(\"Curso de PLN Aula 3\")\n",
        "arquivo_escrita.close()"
      ],
      "execution_count": null,
      "outputs": []
    },
    {
      "cell_type": "code",
      "metadata": {
        "colab": {
          "base_uri": "https://localhost:8080/"
        },
        "id": "pZRf8S-gQZ7R",
        "outputId": "5dfe62d9-edf3-492a-a709-6e147b758cfc"
      },
      "source": [
        "arquivo_teste = open(\"/content/drive/MyDrive/arquivos_txt/result.txt\", 'r')\n",
        "print(arquivo_teste.read())"
      ],
      "execution_count": null,
      "outputs": [
        {
          "output_type": "stream",
          "name": "stdout",
          "text": [
            "Curso de PLN Aula 3\n"
          ]
        }
      ]
    },
    {
      "cell_type": "code",
      "metadata": {
        "id": "DZ9rX-O3RGLF"
      },
      "source": [
        "arquivo_escrita = open(\"/content/drive/MyDrive/arquivos_txt/result.txt\", 'a')\n",
        "arquivo_escrita.write(\"Estudando Arquivos\")\n",
        "arquivo_escrita.close()"
      ],
      "execution_count": null,
      "outputs": []
    },
    {
      "cell_type": "code",
      "metadata": {
        "colab": {
          "base_uri": "https://localhost:8080/"
        },
        "id": "QWY4TaIBRLzN",
        "outputId": "3a979e29-84be-4e9a-8adc-b7b6ff59b2e3"
      },
      "source": [
        "arquivo_teste = open(\"/content/drive/MyDrive/arquivos_txt/result.txt\", 'r')\n",
        "print(arquivo_teste.read())"
      ],
      "execution_count": null,
      "outputs": [
        {
          "output_type": "stream",
          "name": "stdout",
          "text": [
            "Final -  Curso de PLNEstudando Arquivos\n"
          ]
        }
      ]
    },
    {
      "cell_type": "markdown",
      "metadata": {
        "id": "xy6O8wAySQ8R"
      },
      "source": [
        "Se eu quiser dar um write em número, ou seja, diferente de string, preciso forçar o Python num processo chamado Casting."
      ]
    },
    {
      "cell_type": "code",
      "metadata": {
        "colab": {
          "base_uri": "https://localhost:8080/",
          "height": 231
        },
        "id": "Oii-caMBRWyM",
        "outputId": "bac98f3b-5066-4ee9-a87d-efd463f5eb89"
      },
      "source": [
        "arquivo_escrita = open(\"/content/drive/MyDrive/arquivos_txt/result.txt\", 'a')\n",
        "numero = 10\n",
        "arquivo_escrita.write(numero)\n",
        "arquivo_escrita.close()"
      ],
      "execution_count": null,
      "outputs": [
        {
          "output_type": "error",
          "ename": "TypeError",
          "evalue": "ignored",
          "traceback": [
            "\u001b[0;31m---------------------------------------------------------------------------\u001b[0m",
            "\u001b[0;31mTypeError\u001b[0m                                 Traceback (most recent call last)",
            "\u001b[0;32m<ipython-input-111-dd19c08dc97e>\u001b[0m in \u001b[0;36m<module>\u001b[0;34m()\u001b[0m\n\u001b[1;32m      1\u001b[0m \u001b[0marquivo_escrita\u001b[0m \u001b[0;34m=\u001b[0m \u001b[0mopen\u001b[0m\u001b[0;34m(\u001b[0m\u001b[0;34m\"/content/drive/MyDrive/arquivos_txt/result.txt\"\u001b[0m\u001b[0;34m,\u001b[0m \u001b[0;34m'a'\u001b[0m\u001b[0;34m)\u001b[0m\u001b[0;34m\u001b[0m\u001b[0;34m\u001b[0m\u001b[0m\n\u001b[1;32m      2\u001b[0m \u001b[0mnumero\u001b[0m \u001b[0;34m=\u001b[0m \u001b[0;36m10\u001b[0m\u001b[0;34m\u001b[0m\u001b[0;34m\u001b[0m\u001b[0m\n\u001b[0;32m----> 3\u001b[0;31m \u001b[0marquivo_escrita\u001b[0m\u001b[0;34m.\u001b[0m\u001b[0mwrite\u001b[0m\u001b[0;34m(\u001b[0m\u001b[0mnumero\u001b[0m\u001b[0;34m)\u001b[0m\u001b[0;34m\u001b[0m\u001b[0;34m\u001b[0m\u001b[0m\n\u001b[0m\u001b[1;32m      4\u001b[0m \u001b[0marquivo_escrita\u001b[0m\u001b[0;34m.\u001b[0m\u001b[0mclose\u001b[0m\u001b[0;34m(\u001b[0m\u001b[0;34m)\u001b[0m\u001b[0;34m\u001b[0m\u001b[0;34m\u001b[0m\u001b[0m\n",
            "\u001b[0;31mTypeError\u001b[0m: write() argument must be str, not int"
          ]
        }
      ]
    },
    {
      "cell_type": "code",
      "metadata": {
        "id": "ByiLYzuXS6Cc"
      },
      "source": [
        "arquivo_escrita = open(\"/content/drive/MyDrive/arquivos_txt/result.txt\", 'a')\n",
        "numero = 10\n",
        "arquivo_escrita.write(str(numero))\n",
        "arquivo_escrita.close()"
      ],
      "execution_count": null,
      "outputs": []
    },
    {
      "cell_type": "code",
      "metadata": {
        "colab": {
          "base_uri": "https://localhost:8080/"
        },
        "id": "KY5H93KZS_1Y",
        "outputId": "e15af88f-5ab4-497c-fda3-10f77c75b600"
      },
      "source": [
        "arquivo_teste = open(\"/content/drive/MyDrive/arquivos_txt/result.txt\", 'r')\n",
        "print(arquivo_teste.read())"
      ],
      "execution_count": null,
      "outputs": [
        {
          "output_type": "stream",
          "name": "stdout",
          "text": [
            "Final -  Curso de PLNEstudando Arquivos10\n"
          ]
        }
      ]
    },
    {
      "cell_type": "code",
      "metadata": {
        "colab": {
          "base_uri": "https://localhost:8080/"
        },
        "id": "0JkblUtmUh4N",
        "outputId": "a1efc2be-6a75-4ac9-8b66-13423c584fc7"
      },
      "source": [
        "estrutura = [10,20,30,40,50]\n",
        "print(estrutura[:3])"
      ],
      "execution_count": null,
      "outputs": [
        {
          "output_type": "stream",
          "name": "stdout",
          "text": [
            "[10, 20, 30]\n"
          ]
        }
      ]
    },
    {
      "cell_type": "code",
      "metadata": {
        "colab": {
          "base_uri": "https://localhost:8080/",
          "height": 197
        },
        "id": "3Obg1HhkU9R0",
        "outputId": "33386d5f-c81b-414d-f326-af4f287949f5"
      },
      "source": [
        "v = \"1\"\n",
        "q = 1\n",
        "v + q\n"
      ],
      "execution_count": null,
      "outputs": [
        {
          "output_type": "error",
          "ename": "TypeError",
          "evalue": "ignored",
          "traceback": [
            "\u001b[0;31m---------------------------------------------------------------------------\u001b[0m",
            "\u001b[0;31mTypeError\u001b[0m                                 Traceback (most recent call last)",
            "\u001b[0;32m<ipython-input-115-8c16cd1d3110>\u001b[0m in \u001b[0;36m<module>\u001b[0;34m()\u001b[0m\n\u001b[1;32m      1\u001b[0m \u001b[0mv\u001b[0m \u001b[0;34m=\u001b[0m \u001b[0;34m\"1\"\u001b[0m\u001b[0;34m\u001b[0m\u001b[0;34m\u001b[0m\u001b[0m\n\u001b[1;32m      2\u001b[0m \u001b[0mq\u001b[0m \u001b[0;34m=\u001b[0m \u001b[0;36m1\u001b[0m\u001b[0;34m\u001b[0m\u001b[0;34m\u001b[0m\u001b[0m\n\u001b[0;32m----> 3\u001b[0;31m \u001b[0mv\u001b[0m \u001b[0;34m+\u001b[0m \u001b[0mq\u001b[0m\u001b[0;34m\u001b[0m\u001b[0;34m\u001b[0m\u001b[0m\n\u001b[0m",
            "\u001b[0;31mTypeError\u001b[0m: can only concatenate str (not \"int\") to str"
          ]
        }
      ]
    },
    {
      "cell_type": "code",
      "metadata": {
        "colab": {
          "base_uri": "https://localhost:8080/"
        },
        "id": "B6cvyYp2dgWv",
        "outputId": "714baa15-c34e-47f3-fae8-3a4313fdf2e0"
      },
      "source": [
        "variavel = 1 + 1\n",
        "variavel"
      ],
      "execution_count": null,
      "outputs": [
        {
          "output_type": "execute_result",
          "data": {
            "text/plain": [
              "2"
            ]
          },
          "metadata": {},
          "execution_count": 116
        }
      ]
    },
    {
      "cell_type": "code",
      "metadata": {
        "colab": {
          "base_uri": "https://localhost:8080/",
          "height": 35
        },
        "id": "fFv5uY1rdjuq",
        "outputId": "8fac041a-ce4c-428f-b8c3-d0b7c207de6a"
      },
      "source": [
        "c = 'carla'\n",
        "c = c + ' seibel'\n",
        "c"
      ],
      "execution_count": null,
      "outputs": [
        {
          "output_type": "execute_result",
          "data": {
            "application/vnd.google.colaboratory.intrinsic+json": {
              "type": "string"
            },
            "text/plain": [
              "'carla seibel'"
            ]
          },
          "metadata": {},
          "execution_count": 118
        }
      ]
    },
    {
      "cell_type": "code",
      "metadata": {
        "colab": {
          "base_uri": "https://localhost:8080/"
        },
        "id": "hMqbUkqyd6lh",
        "outputId": "705cdaf1-ad27-466d-ddf2-f76caeff8d75"
      },
      "source": [
        "pi = 3.14\n",
        "info = 'o valor de pi é ' + str(pi)\n",
        "print(info)\n"
      ],
      "execution_count": null,
      "outputs": [
        {
          "output_type": "stream",
          "name": "stdout",
          "text": [
            "o valor de pi é 3.14\n"
          ]
        }
      ]
    },
    {
      "cell_type": "markdown",
      "metadata": {
        "id": "kWdouPZheVwZ"
      },
      "source": [
        "Funções das Strings\n",
        "- Ver lista de funções aqui: https://www.w3schools.com/python/python_strings.asp"
      ]
    },
    {
      "cell_type": "code",
      "metadata": {
        "colab": {
          "base_uri": "https://localhost:8080/"
        },
        "id": "8lDgd466eYWI",
        "outputId": "c48ffdc7-9218-4f7d-84eb-e14af380c533"
      },
      "source": [
        "s = 'universidade federal do espírito santo'\n",
        "len(s)\n",
        "len(s.split())"
      ],
      "execution_count": null,
      "outputs": [
        {
          "output_type": "execute_result",
          "data": {
            "text/plain": [
              "5"
            ]
          },
          "metadata": {},
          "execution_count": 122
        }
      ]
    },
    {
      "cell_type": "markdown",
      "metadata": {
        "id": "_RXH4DI6f4Ds"
      },
      "source": [
        "Fazer exercícios no que estão aqui https://www.youtube.com/watch?v=RE52nPYI2WM&t=3906s de revisão mais complexa de tudo que vi até aqui e manipulação de strings."
      ]
    },
    {
      "cell_type": "code",
      "metadata": {
        "id": "e4lM9loSesK5"
      },
      "source": [
        ""
      ],
      "execution_count": null,
      "outputs": []
    },
    {
      "cell_type": "code",
      "metadata": {
        "id": "JqBqWBwxgF7N"
      },
      "source": [
        ""
      ],
      "execution_count": null,
      "outputs": []
    }
  ]
}